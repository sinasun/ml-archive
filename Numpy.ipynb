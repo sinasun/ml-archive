{
 "cells": [
  {
   "cell_type": "markdown",
   "id": "74da9f67",
   "metadata": {},
   "source": [
    "# Numpy\n",
    "\n",
    "In this notebook, we go through all the most used functions in numpy, starting with beginner friendly to advanced. "
   ]
  },
  {
   "cell_type": "code",
   "execution_count": 84,
   "id": "9749b1d9",
   "metadata": {},
   "outputs": [],
   "source": [
    "import numpy as np"
   ]
  },
  {
   "cell_type": "markdown",
   "id": "cb984ef3",
   "metadata": {},
   "source": [
    "## 1 Vectors\n",
    "\n",
    "First we start with vectors, you can imagine vectors as a $1 \\times n$ or $n \\times 1$ matrix. But for simplicity we learn them seperatly. "
   ]
  },
  {
   "cell_type": "markdown",
   "id": "a9230837",
   "metadata": {},
   "source": [
    "### 1.1 Vector Creation\n",
    "\n",
    "#### 1.1.1 np.array\n",
    "Array in numpy are type of ``ndarray``. We can use ``np.array()`` to create an array from a list. Passing both tuple and list to ``np.array()`` will give us the same result."
   ]
  },
  {
   "cell_type": "code",
   "execution_count": 85,
   "id": "22bade8b",
   "metadata": {},
   "outputs": [
    {
     "name": "stdout",
     "output_type": "stream",
     "text": [
      "[1 2 3 4 5]\n",
      "[1 2 3 4 5]\n"
     ]
    }
   ],
   "source": [
    "array1 = np.array([1, 2, 3, 4, 5]) # Using a list\n",
    "array2 = np.array((1, 2, 3, 4, 5)) # Using a tuple\n",
    "\n",
    "print(array1)\n",
    "print(array2)"
   ]
  },
  {
   "cell_type": "markdown",
   "id": "59994c68",
   "metadata": {},
   "source": [
    "Each array has a ``shape`` and ``dtype``. ``shape`` defines the object dimension and ``dtype`` determines the type of data stored in the array:"
   ]
  },
  {
   "cell_type": "code",
   "execution_count": 86,
   "id": "bb5999f9",
   "metadata": {},
   "outputs": [
    {
     "name": "stdout",
     "output_type": "stream",
     "text": [
      "array1: [1 2 3 4 5] , array1 shape: (5,) array1 dtype: int64\n",
      "array2: [1 2 3 4 5] , array2 shape: (5,) array2 dtype: int64\n"
     ]
    }
   ],
   "source": [
    "print(f\"array1: {array1} , array1 shape: {array1.shape} array1 dtype: {array1.dtype}\")\n",
    "print(f\"array2: {array2} , array2 shape: {array2.shape} array2 dtype: {array2.dtype}\")"
   ]
  },
  {
   "cell_type": "markdown",
   "id": "47567038",
   "metadata": {},
   "source": [
    "#### 1.1.2 array.dtype\n",
    "\n",
    "When creating array using ``np.array()`` the dtype is picked from the list of objects in our list. For list of our datatypes, we focus on the main ones only:\n",
    "\n",
    "int: we have 3 options to use, `int`, `int32` and `int64`\n",
    "\n",
    "float: we have 3 options to use, `float`, `float32` and `float64`\n",
    "\n",
    "string: String is shows as `U` which stands for unicode string or `S` (no difference between them), with length of the maximum element, so if the longest string in our elements has 8 character it gets `<U8` or `|S8`\n",
    "\n",
    "We can also set the dtype by ourself too:"
   ]
  },
  {
   "cell_type": "code",
   "execution_count": 87,
   "id": "8e291d44",
   "metadata": {},
   "outputs": [
    {
     "name": "stdout",
     "output_type": "stream",
     "text": [
      "array1 dtype: int64\n",
      "array2 dtype: float64\n",
      "array3 dtype: float64\n",
      "array4 dtype: float64\n",
      "array5 dtype: int64\n",
      "array6 dtype: <U4\n"
     ]
    }
   ],
   "source": [
    "array1 = np.array([1, 2, 3, 4, 5]) # All of our numbers are int so we get a int type\n",
    "array2 = np.array([1., 2., 3., 4., 5.]) # All of our numbers are float so we get a float type\n",
    "array3 = np.array([1., 2, 3, 4, 5]) # We have one float, so we still get float type\n",
    "array4 = np.array([1, 2, 3, 4, 5], dtype='float64') # We convert the type from int64 to float64\n",
    "array5 = np.array([1., 2, 3, 4, 5], dtype='int64') # We convert the type from float64 to int64\n",
    "array6 = np.array([\"Sina\", \"Nima\"])\n",
    "\n",
    "print(f\"array1 dtype: {array1.dtype}\")\n",
    "print(f\"array2 dtype: {array2.dtype}\")\n",
    "print(f\"array3 dtype: {array3.dtype}\")\n",
    "print(f\"array4 dtype: {array4.dtype}\")\n",
    "print(f\"array5 dtype: {array5.dtype}\")\n",
    "print(f\"array6 dtype: {array6.dtype}\")"
   ]
  },
  {
   "cell_type": "markdown",
   "id": "5c1c0800",
   "metadata": {},
   "source": [
    "#### 1.1.3 array.ndim\n",
    "\n",
    "``array.ndim`` returns the number of dimension that the array has. Until now all array we created had 1 dimension.\n"
   ]
  },
  {
   "cell_type": "code",
   "execution_count": 88,
   "id": "dec4d624",
   "metadata": {},
   "outputs": [
    {
     "name": "stdout",
     "output_type": "stream",
     "text": [
      "array1 ndim: 1\n"
     ]
    }
   ],
   "source": [
    "array1 = np.array([1, 2, 3, 4, 5]) \n",
    "print(f\"array1 ndim: {array1.ndim}\")"
   ]
  },
  {
   "cell_type": "markdown",
   "id": "7368b8cf",
   "metadata": {},
   "source": [
    "#### 1.1.4 array.shape\n",
    "\n",
    "We get into ``array.shape`` later, when we're working with multi dimensional arrays. But for now, we just need to know that ``array.shape`` returns a tuple with the number of elements in each dimension. \n",
    "\n",
    "So (4, 5, 2) means in the first dimension we have 4 element, in the second dimension we have 5 element and in the third dimension we have 2 elements(Programming view: array[4][5][2]).\n",
    "\n",
    "Also size of the list that shape returns is equal to our ndim."
   ]
  },
  {
   "cell_type": "code",
   "execution_count": 89,
   "id": "a99d4f26",
   "metadata": {},
   "outputs": [
    {
     "name": "stdout",
     "output_type": "stream",
     "text": [
      "array1 shape: (5,) , shape size (number of dimension): 1\n"
     ]
    }
   ],
   "source": [
    "array1 = np.array([1, 2, 3, 4, 5]) # We have a 1 dimension array\n",
    "# it has 5 elements in the first dimension\n",
    "\n",
    "print(f\"array1 shape: {array1.shape} , shape size (number of dimension): {len(array1.shape)}\")"
   ]
  },
  {
   "cell_type": "markdown",
   "id": "4b5522d1",
   "metadata": {},
   "source": [
    "#### 1.1.5 array.size\n",
    "\n",
    "``array.size`` is the total number of all elements in the array. Basically the production of elements of shape."
   ]
  },
  {
   "cell_type": "code",
   "execution_count": 90,
   "id": "9cc3bf45",
   "metadata": {},
   "outputs": [
    {
     "name": "stdout",
     "output_type": "stream",
     "text": [
      "array1 size: 5\n"
     ]
    }
   ],
   "source": [
    "array1 = np.array([1, 2, 3, 4, 5]) # We have a 1 dimension array\n",
    "\n",
    "print(f\"array1 size: {array1.size}\") "
   ]
  },
  {
   "cell_type": "markdown",
   "id": "457e4762",
   "metadata": {},
   "source": [
    "#### 1.1.6 np.zeros\n",
    "\n",
    "We can create an array of zeros using ``np.zeros``. We pass the shape we want to the function and it returns the array.\n",
    "\n",
    "Note: When passing shape to ``np.zeros``, for 1 dimensional array, we can use both ``n``, and ``(n,)``"
   ]
  },
  {
   "cell_type": "code",
   "execution_count": 91,
   "id": "5f20b8c1",
   "metadata": {},
   "outputs": [
    {
     "name": "stdout",
     "output_type": "stream",
     "text": [
      "array1: [0. 0. 0. 0.]\n",
      "array2: [0. 0. 0. 0.]\n"
     ]
    }
   ],
   "source": [
    "array1 = np.zeros((4,))\n",
    "array2 = np.zeros(4)\n",
    "\n",
    "print(f\"array1: {array1}\")\n",
    "print(f\"array2: {array2}\")"
   ]
  },
  {
   "cell_type": "markdown",
   "id": "8c127d06",
   "metadata": {},
   "source": [
    "#### 1.1.7 np.arange\n",
    "\n",
    "``np.arange`` is used to create a 1-dimensional array (vector), in the range we define. \n",
    "\n",
    "Function prototype:\n",
    "\n",
    "``arange(start = 0, stop, step = 1, dtype=optional)``\n",
    "\n",
    "Note: that if we don't input the start or step, the default value for them is going to be used.\n",
    "\n",
    "Extra Note: Casting int to float is always not a good practice in arange, and might cause wrong output. It's better to use ``np.linspace`` in those cases."
   ]
  },
  {
   "cell_type": "code",
   "execution_count": 92,
   "id": "545b3628",
   "metadata": {},
   "outputs": [
    {
     "name": "stdout",
     "output_type": "stream",
     "text": [
      "array1: [0 1 2 3 4 5 6 7]\n",
      "array2: [2 3 4 5 6 7]\n",
      "array3: [2. 4. 6.]\n"
     ]
    }
   ],
   "source": [
    "array1 = np.arange(8) # start = 0, stop = 8, step = 1\n",
    "array2 = np.arange(2, 8) # start = 2, stop = 8, step = 1\n",
    "array3 = np.arange(2, 8, 2) # start = 2, stop = 8, step = 2\n",
    "array3 = np.arange(2., 8, 2) # start = 2, stop = 8, step = 2, dtype = float64\n",
    "\n",
    "\n",
    "print(f\"array1: {array1}\")\n",
    "print(f\"array2: {array2}\")\n",
    "print(f\"array3: {array3}\")"
   ]
  },
  {
   "cell_type": "markdown",
   "id": "fded15f9",
   "metadata": {},
   "source": [
    "#### 1.1.8 np.linspace\n",
    "\n",
    "``np.linspace`` returns evenly spaced numbers over a specified range (numpy document reference)\n",
    "\n",
    "Simplified function prototype:\n",
    "\n",
    "``np.linspace(start, stop, num=50, endpoint=True, retstep=False, dtype=optional)``\n",
    "\n",
    "with start and stop, we can define the ragne of the numbers, and num defines how many number in this range should be generated.\n",
    "\n",
    "endpoint means if to have the stop counted in our numbers that it return too or no.\n",
    "\n",
    "If we set retstep = True, it returns the step between each number in our array too."
   ]
  },
  {
   "cell_type": "code",
   "execution_count": 93,
   "id": "b2bb4d01",
   "metadata": {
    "scrolled": true
   },
   "outputs": [
    {
     "name": "stdout",
     "output_type": "stream",
     "text": [
      "array1: [0. 2. 4. 6. 8.]\n",
      "array2: [0.  1.6 3.2 4.8 6.4]\n",
      "array3: [0. 2. 4. 6.]\n",
      "array4: [0. 2. 4. 6. 8.] , step between elements: 2.0\n"
     ]
    }
   ],
   "source": [
    "array1 = np.linspace(0, 8, num=5) # start = 0, stop = 8, and we have 5 numbers including the stop\n",
    "array2 = np.linspace(0, 8, num=5, endpoint=False) # start = 0, stop = 8, and we have 5 numbers without counting the stop\n",
    "array3 = np.linspace(0, 8, num=4, endpoint=False) # start = 0, stop = 8, and we have 4 numbers without counting the stop\n",
    "array4, array4_step = np.linspace(0, 8, num=5, retstep=True) # It also returns the step between the elements\n",
    "\n",
    "print(f\"array1: {array1}\")\n",
    "print(f\"array2: {array2}\")\n",
    "print(f\"array3: {array3}\")\n",
    "print(f\"array4: {array4} , step between elements: {array4_step}\")"
   ]
  },
  {
   "cell_type": "markdown",
   "id": "2e7f71d3",
   "metadata": {},
   "source": [
    "#### 1.1.9 np.random\n",
    "\n",
    "We use ``np.random.rand()`` and ``np.random.random_sample()`` to generate random arrays between (0,1]. The difference is ``np.random.rand()`` gets the list of dimension and ``np.random.random_sample()`` gets shape (which basically has the list of dimension inside it).\n",
    "\n",
    "Using seed we can generate the same output for our random numbers, even if we run the code again."
   ]
  },
  {
   "cell_type": "code",
   "execution_count": 94,
   "id": "c432bb94",
   "metadata": {},
   "outputs": [
    {
     "name": "stdout",
     "output_type": "stream",
     "text": [
      "array1: [4.17022005e-01 7.20324493e-01 1.14374817e-04 3.02332573e-01]\n",
      "array2: [0.14675589 0.09233859 0.18626021 0.34556073]\n",
      "array3: [[0.39676747 0.53881673]\n",
      " [0.41919451 0.6852195 ]]\n",
      "array4: [[0.20445225 0.87811744]\n",
      " [0.02738759 0.67046751]]\n"
     ]
    }
   ],
   "source": [
    "np.random.seed(1) # Setting the seed so we get the same output\n",
    "\n",
    "array1 = np.random.rand(4) # 1 Dimension array\n",
    "array2 = np.random.random_sample((4)) # Same as above\n",
    "\n",
    "array3 = np.random.rand(2, 2) # 2 Dimensional array, in each there is two numbers\n",
    "array4 = np.random.random_sample((2, 2)) # Same as above\n",
    "\n",
    "\n",
    "print(f\"array1: {array1}\")\n",
    "print(f\"array2: {array2}\")\n",
    "print(f\"array3: {array3}\")\n",
    "print(f\"array4: {array4}\")"
   ]
  },
  {
   "cell_type": "markdown",
   "id": "e5d566ad",
   "metadata": {},
   "source": [
    "Using ``np.random.uniform(lower_bound, upper_bound, shape)`` we can set the range for our random numbers. See below:"
   ]
  },
  {
   "cell_type": "code",
   "execution_count": 95,
   "id": "7b5f76a4",
   "metadata": {},
   "outputs": [
    {
     "name": "stdout",
     "output_type": "stream",
     "text": [
      "array1: [42.28517847 72.31212485]\n"
     ]
    }
   ],
   "source": [
    "np.random.seed(1)\n",
    "\n",
    "array1 = np.random.uniform(1, 100, (2)) # Shape is 2, means we have a 1 dimensional array with 2 element in that dimension\n",
    "print(f\"array1: {array1}\")"
   ]
  },
  {
   "cell_type": "markdown",
   "id": "590800eb",
   "metadata": {},
   "source": [
    "### 1.2 Vector Operations\n"
   ]
  },
  {
   "cell_type": "markdown",
   "id": "8a77146e",
   "metadata": {},
   "source": [
    "#### 1.2.1 Indexing\n",
    "\n",
    "For accessing an index in array, we simply use array[index]. We can use negative index to count from the end of array.\n",
    "\n",
    "Note: If the index is out of range, we get an error!"
   ]
  },
  {
   "cell_type": "code",
   "execution_count": 96,
   "id": "722d63b8",
   "metadata": {},
   "outputs": [
    {
     "name": "stdout",
     "output_type": "stream",
     "text": [
      "array1: [0 1 2 3 4 5 6 7 8 9]\n",
      "array1[4]: 4\n",
      "array1[-1]: 9\n",
      "array1[-3]: 7\n"
     ]
    }
   ],
   "source": [
    "array1 = np.arange(10)\n",
    "\n",
    "print(f\"array1: {array1}\")\n",
    "print(f\"array1[4]: {array1[4]}\")\n",
    "print(f\"array1[-1]: {array1[-1]}\")\n",
    "print(f\"array1[-3]: {array1[-3]}\")"
   ]
  },
  {
   "cell_type": "markdown",
   "id": "b1c14e66",
   "metadata": {},
   "source": [
    "#### 1.2.2 Slicing\n",
    "\n",
    "We can slice array using [start:stop:step] (note that slice return the sliced array and doesn't change the original array): (start, stop]\n",
    "\n",
    "If we don't provide any of them, they will be consider as below:\n",
    "\n",
    "Start: First element\n",
    "\n",
    "Stop: Last element\n",
    "\n",
    "Step: 1"
   ]
  },
  {
   "cell_type": "code",
   "execution_count": 97,
   "id": "2655d00c",
   "metadata": {},
   "outputs": [
    {
     "name": "stdout",
     "output_type": "stream",
     "text": [
      "array1: [0 1 2 3 4 5 6 7 8 9]\n",
      "array2: [0 1 2 3]\n",
      "array2: [3]\n",
      "array2: [3 4 5 6 7 8 9]\n",
      "array2: [0 2 4 6 8]\n"
     ]
    }
   ],
   "source": [
    "array1 = np.arange(10)\n",
    "\n",
    "print(f\"array1: {array1}\")\n",
    "\n",
    "array2 = array1[:4] # Start = 0, Stop = 4, Step = 1\n",
    "print(f\"array2: {array2}\")\n",
    "\n",
    "array2 = array1[3:4] # Start = 3, Stop = 4, Step = 1\n",
    "print(f\"array2: {array2}\")\n",
    "\n",
    "array2 = array1[3:] # Start = 3, Stop = 10, Step = 1\n",
    "print(f\"array2: {array2}\")\n",
    "\n",
    "array2 = array1[::2] # Start = 0, Stop = 10, Step = 2\n",
    "print(f\"array2: {array2}\")"
   ]
  },
  {
   "cell_type": "markdown",
   "id": "cb3a433b",
   "metadata": {},
   "source": [
    "#### 1.2.3 Vector Operations\n",
    "\n",
    "I belive the code is self explanatory, with the comments. It's highly recommended to use built in numpy functions to do array operations, due use of multi core and parallel calculations."
   ]
  },
  {
   "cell_type": "code",
   "execution_count": 98,
   "id": "e1455e1e",
   "metadata": {},
   "outputs": [
    {
     "name": "stdout",
     "output_type": "stream",
     "text": [
      "array1: [0 1 2 3 4 5 6 7 8 9]\n",
      "array2 = -array1: [ 0 -1 -2 -3 -4 -5 -6 -7 -8 -9]\n",
      "sum_element = np.sum(array1) : 45\n",
      "mean = np.mean(array1): 4.5\n",
      "array2 = array1**2: [ 0  1  4  9 16 25 36 49 64 81]\n",
      "array2 = 5 * array1 : [ 0  5 10 15 20 25 30 35 40 45]\n",
      "\n",
      "array1: [1 2 3 4]\n",
      "array2: [-1 -2  3  4]\n",
      "array3 = array1 + array2: [0 0 6 8]\n",
      "\n",
      "array1: [1 2 3 4]\n",
      "array2: [-1 -2  3  4]\n",
      "array3 = array1 (dot) array2: 20\n"
     ]
    }
   ],
   "source": [
    "array1 = np.arange(10)\n",
    "print(f\"array1: {array1}\")\n",
    "\n",
    "array2 = -array1\n",
    "print(f\"array2 = -array1: {array2}\")\n",
    "\n",
    "sum_element = np.sum(array1) # Sum all elements of array1\n",
    "print(f\"sum_element = np.sum(array1) : {sum_element}\")\n",
    "\n",
    "mean = np.mean(array1) # Mean of array1\n",
    "print(f\"mean = np.mean(array1): {mean}\")\n",
    "\n",
    "array2 = array1**2 # Make each element of array1 to the power of two\n",
    "print(f\"array2 = array1**2: {array2}\")\n",
    "\n",
    "array2 = 5 * array1 # Multiple each element of array1 to 5\n",
    "print(f\"array2 = 5 * array1 : {array2}\")\n",
    "\n",
    "\n",
    "array1 = np.array([ 1, 2, 3, 4])\n",
    "array2 = np.array([-1,-2, 3, 4])\n",
    "array3 = array1 + array2\n",
    "print(f\"\\narray1: {array1}\")\n",
    "print(f\"array2: {array2}\")\n",
    "print(f\"array3 = array1 + array2: {array3}\")"
   ]
  },
  {
   "cell_type": "markdown",
   "id": "5371372b",
   "metadata": {},
   "source": [
    "#### 1.2.4 Vector Dot\n",
    "\n",
    "Dot of two vectors is equal to sum of production of the same indexes in the two arrays. In mathematical terms:\n",
    "\n",
    "$$ c = \\sum_{i=0}^{n-1}(a_i b_i) $$\n",
    "\n",
    "Note: We can write the code in python for dot production of two vector, and it's pretty simple, but numpy dot is much faster due usage of parallel processing!"
   ]
  },
  {
   "cell_type": "code",
   "execution_count": 100,
   "id": "9b0e1e5a",
   "metadata": {},
   "outputs": [
    {
     "name": "stdout",
     "output_type": "stream",
     "text": [
      "\n",
      "array1: [1 2 3 4]\n",
      "array2: [-1 -2  3  4]\n",
      "array3 = array1 (dot) array2: 20\n"
     ]
    }
   ],
   "source": [
    "array1 = np.array([ 1, 2, 3, 4])\n",
    "array2 = np.array([-1,-2, 3, 4])\n",
    "array3 = np.dot(array1, array2)\n",
    "print(f\"\\narray1: {array1}\")\n",
    "print(f\"array2: {array2}\")\n",
    "print(f\"array3 = array1 (dot) array2: {array3}\")"
   ]
  },
  {
   "cell_type": "markdown",
   "id": "395429aa",
   "metadata": {},
   "source": []
  },
  {
   "cell_type": "markdown",
   "id": "a7809b7a",
   "metadata": {},
   "source": []
  }
 ],
 "metadata": {
  "kernelspec": {
   "display_name": "Python 3 (ipykernel)",
   "language": "python",
   "name": "python3"
  },
  "language_info": {
   "codemirror_mode": {
    "name": "ipython",
    "version": 3
   },
   "file_extension": ".py",
   "mimetype": "text/x-python",
   "name": "python",
   "nbconvert_exporter": "python",
   "pygments_lexer": "ipython3",
   "version": "3.11.6"
  }
 },
 "nbformat": 4,
 "nbformat_minor": 5
}
