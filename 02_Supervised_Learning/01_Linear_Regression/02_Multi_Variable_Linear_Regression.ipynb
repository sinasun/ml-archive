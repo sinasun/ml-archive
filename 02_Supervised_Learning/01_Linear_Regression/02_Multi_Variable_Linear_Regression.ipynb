{
 "cells": [
  {
   "cell_type": "markdown",
   "id": "8bf93e23",
   "metadata": {},
   "source": [
    "# Multi Variable Linear Regression\n",
    "\n",
    "## Goal\n",
    "\n",
    "We're given a dataset that has x and y. Example:\n",
    "\n",
    "|  x1  | x2 | x3 | x4 |  y  |\n",
    "|------|----|----|----|-----|\n",
    "| 2104 | 5  | 1  | 45 | 460 |\n",
    "| 1416 | 3  | 2  | 40 | 232 |\n",
    "| 852  | 2  | 1  | 35 | 178 |\n",
    "\n",
    "\n",
    "Now we want to fit the best variable linear regression for the given data. Model (here n = 4):\n",
    "\n",
    "$$ f_{w,b}(x^{(i)}) = w_1 x_1^{(i)} + w_2 x_2^{(i)} + ... + w_n x_n^{(i)} + b $$\n"
   ]
  },
  {
   "cell_type": "markdown",
   "id": "9af4a8e6",
   "metadata": {},
   "source": [
    "## Definitions\n",
    "\n",
    "We imagine we have **m** training data. Also, our function has **n** variables.\n",
    "To show all of x training data we use capital bold **X** which is a matrix:\n",
    "\n",
    "$$\\mathbf{X} = \n",
    "\\begin{pmatrix}\n",
    " x^{(0)}_0 & x^{(0)}_1 & \\cdots & x^{(0)}_{n-1} \\\\ \n",
    " x^{(1)}_0 & x^{(1)}_1 & \\cdots & x^{(1)}_{n-1} \\\\\n",
    " \\cdots \\\\\n",
    " x^{(m-1)}_0 & x^{(m-1)}_1 & \\cdots & x^{(m-1)}_{n-1} \n",
    "\\end{pmatrix}\n",
    "$$\n",
    "\n",
    " We also define a bold $\\mathbf{x^{(i)}}$ to show list of all training data for a training set and a bold **w**. \n",
    "\n",
    "$$\\mathbf{x}^{(i)} = (x^{(i)}_0, x^{(i)}_1, \\cdots,x^{(i)}_{n-1})$$\n",
    "\n",
    "$$\\mathbf{w} = \\begin{pmatrix}\n",
    "w_0 \\\\ \n",
    "w_1 \\\\\n",
    "\\cdots\\\\\n",
    "w_{n-1}\n",
    "\\end{pmatrix}\n",
    "$$\n",
    "\n",
    "\n",
    "Also, we know that dot production of two vector is equal to:\n",
    "\n",
    "$$ \\mathbf{w} \\cdot \\mathbf{x^{(i)}} = \\sum_{j=0}^{n} (w_j x_j^{(i)}) $$\n",
    "\n",
    "And we can write our model as:\n",
    "\n",
    "$$ f_{\\mathbf{w}, b}(\\mathbf{x^{(i)}}) = \\mathbf{w} \\cdot \\mathbf{x^{(i)}} + b$$"
   ]
  },
  {
   "cell_type": "markdown",
   "id": "4072d0a9",
   "metadata": {},
   "source": [
    "## Solution\n",
    "\n",
    "Now we know that our cost function is defined as below:\n",
    "\n",
    "$$ J_{\\mathbf{w}, b} = \\frac{1}{2m} \\sum_{i=0}^{m-1}(f_{\\mathbf{w}, b}(\\mathbf{x^{(i)}}) - y^{(i)})^2$$\n",
    "\n",
    "Now we need to calculate each of $ \\frac {\\partial J_{\\mathbf{w}, b}} {\\partial w_1} $ ,$ \\frac {\\partial J_{\\mathbf{w}, b}} {\\partial w_2} $, ... ,$ \\frac {\\partial J_{\\mathbf{w}, b}} {\\partial w_n} $, $ \\frac {\\partial J_{\\mathbf{w}, b}} {\\partial b} $. \n",
    "\n",
    "$$ \\frac {\\partial J_{\\mathbf{w}, b}} {\\partial w_1} = \\frac{\\partial}{\\partial w_1} ( \\frac{1}{2m} \\sum_{i=0}^{m-1}(f_{\\mathbf{w}, b}(\\mathbf{x^{(i)}}) - y^{(i)})^2)$$\n",
    "\n",
    "$$ \\frac {\\partial J_{\\mathbf{w}, b}} {\\partial w_1} = \\frac{\\partial}{\\partial w_1} ( \\frac{1}{2m} \\sum_{i=0}^{m-1}(w_1 x_1 ^{(i)} + w_2 x_2^{(i)} + ... + w_n x_n^{(i)} - y^{(i)})^2)$$\n",
    "\n",
    "\n",
    "$$ \\frac {\\partial J_{\\mathbf{w}, b}} {\\partial w_1} = \\frac{1}{m} \\sum_{i=0}^{m-1}(w_1 x_1^{(i)} + w_2 x_2^{(i)} + ... + w_n x_n^{(i)} - y^{(i)}) \\times x_1 ^ {(i)}$$\n",
    "\n",
    "By replacing $f_{w,b}$ we get:\n",
    "\n",
    "$$\\frac {\\partial J_{\\mathbf{w}, b}} {\\partial w_1} = \\frac{1}{m} \\sum_{i=0}^{m-1}(f_{\\mathbf{w}, b}(\\mathbf{x^{(i)}}) - y^{(i)}) \\times x_1 ^ {(i)}$$\n",
    "\n",
    "And we can generalize it so we get:\n",
    "\n",
    "\n",
    "$$\\Rightarrow \\frac {\\partial J_{\\mathbf{w}, b}} {\\partial w_n} = \\frac{1}{m} \\sum_{i=0}^{m-1}(f_{\\mathbf{w}, b}(\\mathbf{x^{(i)}}) - y^{(i)}) \\times x_n ^ {(i)}$$\n",
    "\n",
    "By repeating same steps for b, we get:\n",
    "\n",
    "\n",
    "$$\\Rightarrow \\frac {\\partial J_{\\mathbf{w}, b}} {\\partial b} = \\frac{1}{m} \\sum_{i=0}^{m-1}(f_{\\mathbf{w}, b}(\\mathbf{x^{(i)}}) - y^{(i)})$$\n",
    "\n",
    "And from one linear regression, we are familiar with these formulas:\n",
    "\n",
    "$$ w_n = w_n - \\alpha \\frac{\\partial J(\\mathbf{w},b)}{\\partial w_n} $$\n",
    "$$ b = b - \\alpha \\frac{\\partial J(\\mathbf{w},b)}{\\partial b} $$\n"
   ]
  },
  {
   "cell_type": "markdown",
   "id": "363f3eb0",
   "metadata": {},
   "source": [
    "## Code\n",
    "### Initial Code"
   ]
  },
  {
   "cell_type": "code",
   "execution_count": 320,
   "id": "1679db39",
   "metadata": {},
   "outputs": [],
   "source": [
    "import numpy as np\n",
    "import matplotlib.pyplot as plt"
   ]
  },
  {
   "cell_type": "code",
   "execution_count": 321,
   "id": "db2e407a",
   "metadata": {},
   "outputs": [],
   "source": [
    "def compute_cost(X_train, y_train, w, b):\n",
    "    m = X_train.shape[0]\n",
    "    cost = 0\n",
    "    for i in range(m):\n",
    "        error = np.dot(w, X_train[i]) + b - y_train[i]\n",
    "        cost += error ** 2\n",
    "    cost = cost / (2 * m)\n",
    "    return cost"
   ]
  },
  {
   "cell_type": "code",
   "execution_count": 322,
   "id": "614fa62e",
   "metadata": {},
   "outputs": [],
   "source": [
    "def compute_gradient(X_train, y_train, w, b):\n",
    "    m = X_train.shape[0]\n",
    "    dj_dw = np.zeros_like(X_train[0], dtype='float64')\n",
    "    dj_db = 0.\n",
    "    for i in range(m):\n",
    "        error = np.dot(w, X_train[i]) + b - y_train[i]\n",
    "        dj_dw += np.dot(error, X_train[i])\n",
    "        dj_db += error\n",
    "    dj_dw = dj_dw / m\n",
    "    dj_db = dj_db / m\n",
    "    return dj_dw, dj_db"
   ]
  },
  {
   "cell_type": "code",
   "execution_count": 323,
   "id": "5671440d",
   "metadata": {},
   "outputs": [],
   "source": [
    "def fit_regression(X_train, y_train, initial_w, initial_b, alpha, iterations, record_step):\n",
    "    w = initial_w\n",
    "    b = initial_b\n",
    "    J_history = []\n",
    "    for iteration in range(iterations):\n",
    "        # Save J for every 100 iteration:\n",
    "        if (iteration % record_step == 0):\n",
    "            J_history.append(compute_cost(X_train, y_train, w, b))\n",
    "        dj_dw, dj_db = compute_gradient(X_train, y_train, w, b)\n",
    "        w = w - alpha * dj_dw\n",
    "        b = b - alpha * dj_db\n",
    "    \n",
    "    return w, b, J_history"
   ]
  },
  {
   "cell_type": "code",
   "execution_count": 324,
   "id": "fa1d7b12",
   "metadata": {},
   "outputs": [],
   "source": [
    "def run_linear_regression(X_train, y_train, alpha, iterations, record_step=100):\n",
    "    b_initial = 0.\n",
    "    w_initial = np.zeros_like(X_train[0], dtype='float64')\n",
    "    \n",
    "    w, b, J_history = fit_regression(X_train, y_train, w_initial, b_initial, alpha, iterations, record_step)\n",
    "\n",
    "    cost = compute_cost(X_train, y_train, w, b)\n",
    "    print(f\"cost: {cost}, alpha: {alpha}, iterations: {iterations}, w: {w}, b: {b}\")\n",
    "\n",
    "    # Learning Curve Function\n",
    "    iteration = np.arange(0, iterations, record_step)\n",
    "    J_history = np.array(J_history)\n",
    "    plt.plot(iteration, J_history, color='blue', label='Learning Curve (Cost per iteration)')\n",
    "\n",
    "    plt.xlabel('Iteration')\n",
    "    plt.ylabel('Cost function')\n",
    "\n",
    "    plt.legend()\n",
    "    plt.show"
   ]
  },
  {
   "cell_type": "code",
   "execution_count": 325,
   "id": "86f0e744",
   "metadata": {},
   "outputs": [
    {
     "name": "stdout",
     "output_type": "stream",
     "text": [
      "cost: 555.2870188203724, alpha: 8e-07, iterations: 100000, w: [ 0.24206972  0.45253688 -1.31532538 -1.56988301], b: -0.03322988712405046\n"
     ]
    },
    {
     "data": {
      "image/png": "[encoded data removed]",
      "text/plain": [
       "<Figure size 640x480 with 1 Axes>"
      ]
     },
     "metadata": {},
     "output_type": "display_data"
    }
   ],
   "source": [
    "X_train = np.array([[2104, 5, 1, 45], [1416, 3, 2, 40], [852, 2, 1, 35]])\n",
    "y_train = np.array([460, 232, 178])\n",
    "\n",
    "\n",
    "alpha = 8.0e-7\n",
    "iterations = 100_000\n",
    "\n",
    "run_linear_regression(X_train, y_train, alpha, iterations, record_step=10_000)\n",
    "# Note: Our initial values are very bad, specially our b, scaling makes it to work super better!"
   ]
  },
  {
   "cell_type": "code",
   "execution_count": 326,
   "id": "c58a6f2c",
   "metadata": {},
   "outputs": [
    {
     "name": "stdout",
     "output_type": "stream",
     "text": [
      "cost: inf, alpha: 0.1, iterations: 200, w: -3.7661548899558845e+286, b: -1.5580776213454558e+285\n"
     ]
    },
    {
     "name": "stderr",
     "output_type": "stream",
     "text": [
      "/tmp/ipykernel_2044621/4254336170.py:6: RuntimeWarning: overflow encountered in scalar power\n",
      "  cost += error ** 2\n"
     ]
    },
    {
     "data": {
      "image/png": "[encoded data removed]",
      "text/plain": [
       "<Figure size 640x480 with 1 Axes>"
      ]
     },
     "metadata": {},
     "output_type": "display_data"
    }
   ],
   "source": [
    "X_train = np.array([1.0, 5.0, 8.0, 32.0])\n",
    "y_train = np.array([12.0, 35.0, 48.0, 132.0])\n",
    "\n",
    "alpha = 0.1\n",
    "iterations = 200\n",
    "\n",
    "run_linear_regression(X_train, y_train, alpha, iterations, record_step=1)"
   ]
  },
  {
   "cell_type": "markdown",
   "id": "08a275bb",
   "metadata": {},
   "source": [
    "### Applying Scaling\n",
    "\n",
    "Right now we have mutliple variables and each of them has a very wide range. By scaling we make our each of the training close to 0, which makes alpha works better and we get a better output with less iteration.\n",
    "\n",
    "### Why Scaling is good!\n",
    "\n",
    "1. First, as we saw earlier, our initial b value was very bad. And after a few iteration, learning curve, drops. When we scale our data around zero, our b is going to be close to zero as well, so it makes the code to find the correct b faster\n",
    "\n",
    "2. We're using same alpha for all the variables. But their range is different, and when it takes a step for one of the variables, one of them might be super big and another super small. This make our alpha not be very good, but with scaling we make sure all of our steps are close to each other.\n",
    "\n",
    "\n",
    "### Normalization Scaling\n",
    "\n",
    "For feature **j**, we use this formula to scale each of training data:\n",
    "\n",
    "$$ \\tag{1} x^{(i)}_{\\text{scaled},j} = \\frac{x^{(i)}_j - \\min{x_j}}{\\max{x_j} - \\min{x_j}} $$\n",
    "\n",
    "So we get the following formula for $x_i$:\n",
    "\n",
    "$$ x^{(i)}_j = x^{(i)}_{\\text{scaled},j} \\times (\\max{x_j} - \\min{x_j}) + \\min{x_j} $$\n",
    "\n",
    "Our function:\n",
    "\n",
    "$$ f_{w,b}(x^{(i)}) = w_1 x_1^{(i)} + w_2 x_2^{(i)} + \\ldots + w_n x_n^{(i)} + b $$\n",
    "\n",
    "After Replacing Scaling for all features:\n",
    "\n",
    "$$ f_{w,b}(x^{(i)}) = w_1 \\left( x^{(i)}_{\\text{scaled},1} \\times (\\max{x_1} - \\min{x_1}) + \\min{x_1} \\right) + w_2 \\left( x^{(i)}_{\\text{scaled},2} \\times (\\max{x_2} - \\min{x_2}) + \\min{x_2} \\right) + \\ldots + w_n \\left( x^{(i)}_{\\text{scaled},n} \\times (\\max{x_n} - \\min{x_n}) + \\min{x_n} \\right) + b $$\n",
    "\n",
    "By making it to linear regression:\n",
    "\n",
    "$$ f_{w,b}(x^{(i)}) = w_1 (\\max{x_1} - \\min{x_1} x^{(i)}_{\\text{scaled},1}) + w_2 (\\max{x_2} - \\min{x_2}  x^{(i)}_{\\text{scaled},2}) + \\ldots + w_n (\\max{x_n} - \\min{x_n}  x^{(i)}_{\\text{scaled},n}) + w_1 \\min{x_1} + w_2 \\min{x_2} + \\ldots + w_n \\min{x_n} + b $$\n",
    "\n",
    "Now we introduce, scaled version of $w$:\n",
    "\n",
    "$$ w_{\\text{scaled},j} = w_j (\\max{x_j} - \\min{x_j}) $$\n",
    "\n",
    "So for w_j we have:\n",
    "\n",
    "$$ \\tag{2} \\Rightarrow w_j = \\frac {w_{\\text{scaled},j}}{\\max{x_j} - \\min{x_j}} $$\n",
    "\n",
    "By replacing w_j:\n",
    "\n",
    "$$ f_{w_\\text{scaled},b}(x_\\text{scaled}^{(i)}) = w_{\\text{scaled},1} x^{(i)}_{\\text{scaled},1} + w_{\\text{scaled},2} x^{(i)}_{\\text{scaled},2} + \\ldots + w_{\\text{scaled},n} x^{(i)}_{\\text{scaled},n} + \\frac {w_{\\text{scaled},1} \\min{x_1}} {\\max{x_1} - \\min{x_1}} + \\frac {w_{\\text{scaled},2} \\min{x_2}} {\\max{x_2} - \\min{x_2}} + \\ldots + \\frac {w_{\\text{scaled},n} \\min{x_n}} {\\max{x_n} - \\min{x_n}} + b $$\n",
    "\n",
    "\n",
    "Now by having $\\mathbf{w_\\text{scaled}}$ which is a vector of all of our $w_{\\text{scaled},i}$:\n",
    "\n",
    "\n",
    "$$\n",
    "f_{\\mathbf{w_\\text{scaled}},b}(x_\\text{scaled}^{(i)}) = \\mathbf{w_\\text{scaled}} \\cdot \\mathbf{x_\\text{scaled}^{(i)}} + \\mathbf{w_\\text{scaled}} \\cdot \\frac{\\min{\\mathbf{x}}}{\\max{\\mathbf{x}} - \\min{\\mathbf{x}}} + b\n",
    "$$\n",
    "\n",
    "Now we introduct $b_\\text{scaled}$:\n",
    "\n",
    "$$ b_\\text{scaled} = \\mathbf{w_\\text{scaled}} \\cdot \\frac {\\min{\\mathbf{x}}}{\\max{\\mathbf{x}} - \\min{\\mathbf{x}}} + b $$\n",
    "\n",
    "So for our b we're going to have:\n",
    "\n",
    "$$ \\Rightarrow b = b_\\text{scaled} - \\mathbf{w_\\text{scaled}} \\cdot \\frac {\\min{\\mathbf{x}}}{\\max{\\mathbf{x}} - \\min{\\mathbf{x}}} $$\n",
    "\n",
    "Or simply if we have calculated $\\mathbf{w}$ from the first formula we are going to have:\n",
    "\n",
    "$$ \\tag{3} b = b_\\text{scaled} - \\mathbf{w} \\cdot \\min{\\mathbf{x}} $$\n",
    "\n",
    "\n",
    "Finally we can get our function after using scaling:\n",
    "\n",
    "$$ \\tag{4} \\Rightarrow f_{\\mathbf{w_\\text{scaled}},b_\\text{scaled}} = \\mathbf{w_\\text{scaled}} \\cdot \\mathbf{x_\\text{scaled}} + b_\\text{scaled} $$\n",
    "\n",
    "\n",
    "So after we calculated our regression using scaled data, we get $\\mathbf{w_\\text{scaled}}$ and $b_\\text{scaled}$ after that using formula 1 and 2 we can denormalized our features to get the feature values for denormalized data."
   ]
  },
  {
   "cell_type": "code",
   "execution_count": 327,
   "id": "ad3f32b9",
   "metadata": {},
   "outputs": [
    {
     "name": "stdout",
     "output_type": "stream",
     "text": [
      "Normalized Data:\n",
      " [0.         0.12903226 0.22580645 1.        ]\n"
     ]
    }
   ],
   "source": [
    "def normalize_data(X_train):\n",
    "    min_values = np.min(X_train, axis=0) # Array of minimum of each feature\n",
    "    max_values = np.max(X_train, axis=0) # Array of maximum of each feature\n",
    "    \n",
    "    X_scaled = (X_train - min_values) / (max_values - min_values) # From (1) formula\n",
    "    return X_scaled, min_values, max_values\n",
    "\n",
    "X_scaled, min_values, max_values = normalize_data(X_train)\n",
    "print(f\"Normalized Data:\\n {X_scaled}\")"
   ]
  },
  {
   "cell_type": "code",
   "execution_count": 328,
   "id": "66b919de",
   "metadata": {},
   "outputs": [],
   "source": [
    "def normalize_features(w, b, min_values, max_values):\n",
    "    w_scaled = w * (max_values - min_values)\n",
    "    b_scaled = b + np.dot(w, min_values)\n",
    "    \n",
    "    return w_scaled, b_scaled\n",
    "\n",
    "def denormalize_features(w_scaled, b_scaled, min_values, max_values):\n",
    "    w = w_scaled / (max_values - min_values) # From (2) formula\n",
    "    b = b_scaled - np.dot(w, min_values) # From (3) formula\n",
    "    \n",
    "    return w, b"
   ]
  },
  {
   "cell_type": "markdown",
   "id": "d11d311a",
   "metadata": {},
   "source": [
    "### Standardization Scaling \n",
    "\n",
    "There is a better way of scaling, that uses Z-score to scale features. First lets define some famous statistic function (**m** is number of data we have):\n",
    "\n",
    "**Population Mean**\n",
    "\n",
    "$$ \\mu = \\frac{\\sum_{i=0}^{m-1} x_i}{m} $$\n",
    "\n",
    "**Standard Deviation:**\n",
    "\n",
    "$$ \\sigma = \\sqrt{\\frac{\\sum_{i=0}^{m-1}(x_i - \\mu)^2}{m}} $$\n",
    "\n",
    "**Z-Score**\n",
    "\n",
    "$$ Z = \\frac{x - \\mu}{\\sigma} $$"
   ]
  },
  {
   "cell_type": "code",
   "execution_count": 329,
   "id": "c3392e71",
   "metadata": {},
   "outputs": [
    {
     "ename": "IndexError",
     "evalue": "too many indices for array: array is 1-dimensional, but 2 were indexed",
     "output_type": "error",
     "traceback": [
      "\u001b[0;31m---------------------------------------------------------------------------\u001b[0m",
      "\u001b[0;31mIndexError\u001b[0m                                Traceback (most recent call last)",
      "Cell \u001b[0;32mIn[329], line 1\u001b[0m\n\u001b[0;32m----> 1\u001b[0m \u001b[38;5;28mprint\u001b[39m(\u001b[38;5;124mf\u001b[39m\u001b[38;5;124m\"\u001b[39m\u001b[38;5;124mOur data for the first feature: \u001b[39m\u001b[38;5;132;01m{\u001b[39;00m\u001b[43mX_train\u001b[49m\u001b[43m[\u001b[49m\u001b[43m:\u001b[49m\u001b[43m,\u001b[49m\u001b[38;5;250;43m \u001b[39;49m\u001b[38;5;241;43m0\u001b[39;49m\u001b[43m]\u001b[49m\u001b[38;5;132;01m}\u001b[39;00m\u001b[38;5;124m\"\u001b[39m)\n\u001b[1;32m      2\u001b[0m \u001b[38;5;28mprint\u001b[39m(\u001b[38;5;124mf\u001b[39m\u001b[38;5;124m\"\u001b[39m\u001b[38;5;124mMean of the data: \u001b[39m\u001b[38;5;132;01m{\u001b[39;00mnp\u001b[38;5;241m.\u001b[39mmean(X_train,\u001b[38;5;250m \u001b[39maxis\u001b[38;5;241m=\u001b[39m\u001b[38;5;241m0\u001b[39m)[\u001b[38;5;241m0\u001b[39m]\u001b[38;5;132;01m}\u001b[39;00m\u001b[38;5;124m\"\u001b[39m)\n\u001b[1;32m      3\u001b[0m \u001b[38;5;28mprint\u001b[39m(\u001b[38;5;124mf\u001b[39m\u001b[38;5;124m\"\u001b[39m\u001b[38;5;124mStandard Deviation: \u001b[39m\u001b[38;5;132;01m{\u001b[39;00mnp\u001b[38;5;241m.\u001b[39mstd(X_train,\u001b[38;5;250m \u001b[39maxis\u001b[38;5;241m=\u001b[39m\u001b[38;5;241m0\u001b[39m)[\u001b[38;5;241m0\u001b[39m]\u001b[38;5;132;01m}\u001b[39;00m\u001b[38;5;124m\"\u001b[39m)\n",
      "\u001b[0;31mIndexError\u001b[0m: too many indices for array: array is 1-dimensional, but 2 were indexed"
     ]
    }
   ],
   "source": [
    "print(f\"Our data for the first feature: {X_train[:, 0]}\")\n",
    "print(f\"Mean of the data: {np.mean(X_train, axis=0)[0]}\")\n",
    "print(f\"Standard Deviation: {np.std(X_train, axis=0)[0]}\")"
   ]
  },
  {
   "cell_type": "markdown",
   "id": "645d8920",
   "metadata": {},
   "source": [
    "Now we use the Z as the $x_\\text{scaled}$\n",
    "\n",
    "$$\\tag{1} \\Rightarrow x_\\text{scaled,j}^{(i)} = \\frac{x^{(i)} - \\mu(x_j)}{\\sigma(x_j)} $$\n",
    "\n",
    "We apply all the step above same as normalization, to get our answer for $\\mathbf{w_\\text{scaled}}$ and $b_\\text{scaled}$:\n",
    "\n",
    "\n",
    "So we get the following formula for $x_i$:\n",
    "\n",
    "$$ x^{(i)}_j = x^{(i)}_{\\text{scaled},j} \\times \\sigma(x_j) + \\mu(x_j) $$\n",
    "\n",
    "Our function:\n",
    "\n",
    "$$ f_{w,b}(x^{(i)}) = w_1 x_1^{(i)} + w_2 x_2^{(i)} + \\ldots + w_n x_n^{(i)} + b $$\n",
    "\n",
    "After Replacing Scaling for all features:\n",
    "\n",
    "$$ f_{w,b}(x^{(i)}) = w_1 \\left( x^{(i)}_{\\text{scaled},1} \\times \\sigma(x_1) + \\mu(x_1) \\right) +  w_1 \\left( x^{(i)}_{\\text{scaled},2} \\times \\sigma(x_2) + \\mu(x_2) \\right) + \\ldots + w_n \\left( x^{(i)}_{\\text{scaled},n} \\times \\sigma(x_n) + \\mu(x_n) \\right) + b $$\n",
    "\n",
    "By making it to linear regression:\n",
    "\n",
    "$$ f_{w,b}(x^{(i)}) = w_1 \\sigma(x_1) x^{(i)}_{\\text{scaled},1} +  w_1 \\sigma(x_2) x^{(i)}_{\\text{scaled},2} + \\ldots + w_n \\sigma(x_n) x^{(i)}_{\\text{scaled},n} + w_1 \\mu(x_1) + w_2 \\mu(x_2) + \\ldots + w_n \\mu(x_n) + b $$\n",
    "\n",
    "Now we introduce, scaled version of $w$:\n",
    "\n",
    "$$ w_{\\text{scaled},j} = w_j \\sigma(x_j) $$\n",
    "\n",
    "So for w_j we have:\n",
    "\n",
    "$$ \\tag{2} \\Rightarrow w_j = \\frac {w_{\\text{scaled},j}}{\\sigma(x_j)} $$\n",
    "\n",
    "By replacing w_j:\n",
    "\n",
    "$$ f_{w_\\text{scaled},b}(x_\\text{scaled}^{(i)}) = w_{\\text{scaled},1} x^{(i)}_{\\text{scaled},1} + w_{\\text{scaled},2} x^{(i)}_{\\text{scaled},2} + \\ldots + w_{\\text{scaled},n} x^{(i)}_{\\text{scaled},n} + w_1 \\mu(x_1) + w_2 \\mu(x_2) + \\ldots + w_n \\mu(x_n) + b $$\n",
    "\n",
    "Now by having $\\mathbf{w_\\text{scaled}}$ which is a vector of all of our $w_{\\text{scaled},i}$:\n",
    "\n",
    "\n",
    "$$\n",
    "f_{\\mathbf{w_\\text{scaled}},b}(x_\\text{scaled}^{(i)}) = \\mathbf{w_\\text{scaled}} \\cdot \\mathbf{x_\\text{scaled}^{(i)}} + \\mathbf{w_\\text{scaled}} \\cdot \\mu(\\mathbf{x}) + b\n",
    "$$\n",
    "\n",
    "Now we introduct $b_\\text{scaled}$:\n",
    "\n",
    "$$ b_\\text{scaled} = \\mathbf{w_\\text{scaled}} \\cdot \\mu(\\mathbf{x}) + b $$\n",
    "\n",
    "So for our b we're going to have:\n",
    "\n",
    "$$ \\Rightarrow b = b_\\text{scaled} - \\mathbf{w_\\text{scaled}} \\cdot \\mu(\\mathbf{x}) $$\n",
    "\n",
    "Or simply if we have calculated $\\mathbf{w}$ from the first formula we are going to have:\n",
    "\n",
    "$$ \\tag{3} b = b_\\text{scaled} - \\mathbf{w} \\cdot \\mu(\\mathbf{x}) $$\n",
    "\n",
    "\n",
    "Finally we can get our function after using scaling:\n",
    "\n",
    "$$ \\tag{4} \\Rightarrow f_{\\mathbf{w_\\text{scaled}},b_\\text{scaled}} = \\mathbf{w_\\text{scaled}} \\cdot \\mathbf{x_\\text{scaled}} + b_\\text{scaled} $$\n",
    "\n",
    "\n",
    "So after we calculated our regression using scaled data, we get $\\mathbf{w_\\text{scaled}}$ and $b_\\text{scaled}$ after that using formula 1 and 2 we can destandard (revert back to when the data wasn't standardize) our features to get the feature values for destandard data.\n"
   ]
  },
  {
   "cell_type": "code",
   "execution_count": null,
   "id": "41de0ba0",
   "metadata": {},
   "outputs": [],
   "source": [
    "def standardize_data(X_train):\n",
    "    mean_values = np.mean(X_train, axis=0) # Array of mean of each feature\n",
    "    std_values = np.std(X_train, axis=0) # Array of standard deviation of each feature\n",
    "    \n",
    "    X_scaled = (X_train - mean_values) / std_values # From (1) formula\n",
    "    return X_scaled, mean_values, std_values"
   ]
  },
  {
   "cell_type": "code",
   "execution_count": null,
   "id": "1b8a7c36",
   "metadata": {},
   "outputs": [],
   "source": [
    "def standardize_features(w, b, mean_values, std_value):\n",
    "    w_scaled = w * std_values\n",
    "    b_scaled = b + np.dot(w, mean_values)\n",
    "    \n",
    "    return w_scaled, b_scaled\n",
    "\n",
    "def destandardize_features(w_scaled, b_scaled, mean_values, std_values):\n",
    "    w = w_scaled / std_values # From (2) formula\n",
    "    b = b_scaled - np.dot(w, mean_values) # From (3) formula\n",
    "    \n",
    "    return w, b"
   ]
  },
  {
   "cell_type": "markdown",
   "id": "b56ee704",
   "metadata": {},
   "source": [
    "Now we update our `fit_regression` function to normalize/standardize (I'm not sure if that's a word!!!) our data on request, and revert the features for real data (basically revert back the $w_\\text{scaled}$ and $b_\\text{scaled}$: "
   ]
  },
  {
   "cell_type": "code",
   "execution_count": null,
   "id": "4af16629",
   "metadata": {},
   "outputs": [],
   "source": [
    "def fit_regression(X_train, y_train, initial_w, initial_b, alpha, iterations, record_step, scaling=None):\n",
    "    # Apply scaling if needed:\n",
    "    if scaling is None:\n",
    "        X_scaled = X_train # No scaling\n",
    "        w_scaled = initial_w\n",
    "        b_scaled = initial_b\n",
    "    elif scaling == 'normalize':\n",
    "        X_scaled, min_values, max_values = normalize_data(X_train)\n",
    "        w_scaled, b_scaled = normalize_features(initial_w, initial_b, min_values, max_values)\n",
    "    elif scaling == 'standardize':\n",
    "        X_scaled, mean_values, std_values = standardize_data(X_train)\n",
    "        w_scaled, b_scaled = standardize_features(initial_w, initial_b, mean_values, std_values)\n",
    "    else:\n",
    "        raise ValueError(\"Invalid scaling option. Choose 'normalize', 'standardize', or None.\")\n",
    "\n",
    "        \n",
    "    J_history = []\n",
    "    for iteration in range(iterations):\n",
    "        # Save J for every 100 iteration:\n",
    "        if (iteration % record_step == 0):\n",
    "            J_history.append(compute_cost(X_scaled, y_train, w_scaled, b_scaled))\n",
    "        dj_dw, dj_db = compute_gradient(X_scaled, y_train, w_scaled, b_scaled)\n",
    "        w_scaled = w_scaled - alpha * dj_dw\n",
    "        b_scaled = b_scaled - alpha * dj_db\n",
    "    \n",
    "    # Denormalize w and b:\n",
    "    if scaling is None:\n",
    "        w = w_scaled\n",
    "        b = b_scaled\n",
    "    elif scaling == 'normalize':\n",
    "        w, b = denormalize_features(w_scaled, b_scaled, min_values, max_values)\n",
    "    elif scaling == 'standardize':\n",
    "        w, b = destandardize_features(w_scaled, b_scaled, mean_values, std_values)\n",
    "    return w, b, J_history"
   ]
  },
  {
   "cell_type": "code",
   "execution_count": null,
   "id": "e58cb19b",
   "metadata": {},
   "outputs": [],
   "source": [
    "# We just need to update the run_linear_regression to pass the scaling option to fit_regression\n",
    "def run_linear_regression(X_train, y_train, alpha, iterations, record_step=100, scaling=None):\n",
    "    b_initial = 0.\n",
    "    w_initial = np.zeros_like(X_train[0], dtype='float64')\n",
    "    \n",
    "    w, b, J_history = fit_regression(X_train, y_train, w_initial, b_initial, alpha, iterations, record_step, scaling)\n",
    "\n",
    "    cost = compute_cost(X_train, y_train, w, b)\n",
    "    print(f\"cost: {cost}, alpha: {alpha}, iterations: {iterations}, w: {w}, b: {b}\")\n",
    "\n",
    "    # Learning Curve Function\n",
    "    iteration = np.arange(0, iterations, record_step)\n",
    "    J_history = np.array(J_history)\n",
    "    plt.plot(iteration, J_history, color='blue', label='Learning Curve (Cost per iteration)')\n",
    "\n",
    "    plt.xlabel('Iteration')\n",
    "    plt.ylabel('Cost function')\n",
    "\n",
    "    plt.legend()\n",
    "    plt.show"
   ]
  },
  {
   "cell_type": "code",
   "execution_count": null,
   "id": "01581f21",
   "metadata": {},
   "outputs": [],
   "source": [
    "X_train = np.array([[2104, 5, 1, 45], [1416, 3, 2, 40], [852, 2, 1, 35]])\n",
    "y_train = np.array([460, 232, 178])\n",
    "\n",
    "alpha = 0.1\n",
    "iterations = 200\n",
    "\n",
    "run_linear_regression(X_train, y_train, alpha, iterations, record_step=1, scaling='normalize')"
   ]
  },
  {
   "cell_type": "code",
   "execution_count": null,
   "id": "60e1df9a",
   "metadata": {},
   "outputs": [],
   "source": [
    "X_train = np.array([[2104, 5, 1, 45], [1416, 3, 2, 40], [852, 2, 1, 35]])\n",
    "y_train = np.array([460, 232, 178])\n",
    "\n",
    "alpha = 0.1\n",
    "iterations = 200\n",
    "\n",
    "run_linear_regression(X_train, y_train, alpha, iterations, record_step=1, scaling='standardize')"
   ]
  },
  {
   "cell_type": "markdown",
   "id": "30d475b9",
   "metadata": {},
   "source": [
    "Now we can see that without scaling with a super low alpha and a lot of iterations with got:  \n",
    "\n",
    "``cost: 555.2870188203724, alpha: 8e-07, iterations: 100000``\n",
    "\n",
    "For normalization with 0.1 alpha and 200 iterations:\n",
    "\n",
    "``cost: 1.0844838691504128, alpha: 0.1, iterations: 200``\n",
    "\n",
    "And the best one, standardization, with 0.1 alpha and 200 iteration, for cost we got:\n",
    "``cost: 2.104806083961064e-14, alpha: 0.1, iterations: 200``\n",
    "\n",
    "\n",
    "You can see how much scaling can improve our regression with a very lower iterations. Also, when our data is scaled, using a alpha 0.1 usually is something close to the best alpha and we don't need to try a lot of different alphas."
   ]
  }
 ],
 "metadata": {
  "kernelspec": {
   "display_name": "Python 3 (ipykernel)",
   "language": "python",
   "name": "python3"
  },
  "language_info": {
   "codemirror_mode": {
    "name": "ipython",
    "version": 3
   },
   "file_extension": ".py",
   "mimetype": "text/x-python",
   "name": "python",
   "nbconvert_exporter": "python",
   "pygments_lexer": "ipython3",
   "version": "3.11.6"
  }
 },
 "nbformat": 4,
 "nbformat_minor": 5
}
