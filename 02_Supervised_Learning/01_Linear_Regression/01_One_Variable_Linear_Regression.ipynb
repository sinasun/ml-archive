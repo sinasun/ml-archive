{
 "cells": [
  {
   "cell_type": "markdown",
   "id": "d6504dc8-cb85-4898-b026-9ac967400437",
   "metadata": {},
   "source": [
    "# One Variable Linear Regression\n",
    "\n",
    "## Goal\n",
    "\n",
    "We're given a dataset that has x and y. Example:\n",
    "\n",
    "| x | y |\n",
    "|---|---|\n",
    "| 1 | 12 |\n",
    "| 5 | 35 |\n",
    "| 8 | 48 |\n",
    "| 32 | 132 |\n",
    "\n",
    "Now we want to fit the best variable linear regression for the given data. Model:\n",
    "\n",
    "$$ f_{w,b}(x^{(i)}) = w x^{(i)} + b $$\n"
   ]
  },
  {
   "cell_type": "markdown",
   "id": "eebc36a6",
   "metadata": {},
   "source": [
    "## Definitions\n",
    "\n",
    "We have **m** number of data, to train our model with.\n",
    "\n",
    "For i_th data point, we show the cordinator of the data with: $x^{(i)}$ and $y^{(i)}$\n",
    "\n",
    "*Cost Function (J)* shows us how accurate our model is. The closer to the zero, the better.\n"
   ]
  },
  {
   "cell_type": "markdown",
   "id": "d45b46e2",
   "metadata": {},
   "source": [
    "## Solution\n",
    "\n",
    "Cost function is square of variance which is equal to:\n",
    "$$ J(w,b) = \\frac{1}{2m} \\sum_{i=1}^{m} (f_{w,b}(x^{(i)}) - y^{(i)})^2$$\n",
    "\n",
    "Note: the reason the cost function is divided by two is that, later when we take derivative of the cost function, we get a simpler function (without an extra 2). "
   ]
  },
  {
   "cell_type": "markdown",
   "id": "5d2afc05",
   "metadata": {},
   "source": [
    "Now we start from an initia w and b, and using this formula we find our next w, b. We continue doing it for number of times (for example 1,000 times). $\\alpha$ is our step length that we take each time. The lower the $\\alpha$ the more accurate step we take, but we need to take more steps to get to the ideal result. \n",
    "\n",
    "\n",
    "$$ w = w - \\alpha \\frac{\\partial J(w,b)}{\\partial w} $$\n",
    "$$ b = b - \\alpha \\frac{\\partial J(w,b)}{\\partial b} $$\n"
   ]
  },
  {
   "cell_type": "markdown",
   "id": "12797ded",
   "metadata": {},
   "source": [
    "Now we need to find the partial derivatives. \n",
    "\n",
    "For w:\n",
    "$$ \\frac{\\partial J}{\\partial w} = \\frac{\\partial}{\\partial w} (\\frac{1}{2m} \\sum_{i=1}^{m} ((w x^{(i)} + b - y^{(i)}) ^ 2)$$\n",
    "\n",
    "$$\\frac{\\partial J}{\\partial w} = \\frac {1}{m} \\sum_{i=1}^{m} ((w x^{(i)} + b - y^{(i)}) x^{(i)})$$\n",
    "\n",
    "Finally by replacing the $f_{w,b}(x^{(i)})$ we get:\n",
    "$$ \\Rightarrow \\frac{\\partial J}{\\partial w} = \\frac {1}{m} \\sum_{i=1}^{m} ((f_{w,b}(x^{(i)}) - y^{(i)}) x^{(i)})$$\n",
    "\n",
    "Using the same method for b we get:\n",
    "\n",
    "$$\\Rightarrow \\frac{\\partial J}{\\partial b} = \\frac {1}{m} \\sum_{i=1}^{m}((f_{w,b}(x^{(i)}) - y^{(i)})$$"
   ]
  },
  {
   "cell_type": "markdown",
   "id": "1dc99993",
   "metadata": {},
   "source": [
    "## Code"
   ]
  },
  {
   "cell_type": "code",
   "execution_count": 54,
   "id": "d8f7d215-1d3f-4492-a1d1-c60caecf18c4",
   "metadata": {},
   "outputs": [],
   "source": [
    "import numpy as np\n",
    "import matplotlib.pyplot as plt"
   ]
  },
  {
   "cell_type": "code",
   "execution_count": 55,
   "id": "620ca00e",
   "metadata": {},
   "outputs": [],
   "source": [
    "def compute_cost(x_train, y_train, w, b): \n",
    "    m = x_train.shape[0]\n",
    "    \n",
    "    f_wb = w * x_train + b\n",
    "    error = (f_wb - y_train) ** 2\n",
    "    cost = np.sum(error) / (2 * m)\n",
    "    \n",
    "    return cost"
   ]
  },
  {
   "cell_type": "code",
   "execution_count": 77,
   "id": "7372cf76",
   "metadata": {},
   "outputs": [],
   "source": [
    "def compute_gradient(x_train, y_train, w, b):\n",
    "    m = x_train.shape[0]\n",
    "    f_wb = w * x_train + b\n",
    "    # Note: Using built in function of numpy, we get way better performance due parallel processing\n",
    "    error = f_wb - y_train\n",
    "    \n",
    "    dj_dw = np.dot(error, x_train) / m\n",
    "    dj_db = np.sum(error) / m\n",
    "    \n",
    "    return dj_dw, dj_db"
   ]
  },
  {
   "cell_type": "code",
   "execution_count": 83,
   "id": "53c9e123",
   "metadata": {},
   "outputs": [],
   "source": [
    "def fit_regression(x_train, y_train, initial_w, initial_b, alpha, iteration):\n",
    "    w = initial_w\n",
    "    b = initial_b\n",
    "    \n",
    "    for _ in range (iteration):\n",
    "        dj_dw, dj_db = compute_gradient(x_train, y_train, w, b)\n",
    "        \n",
    "        # Calculating the next value for our w and b:\n",
    "        w -= alpha * dj_dw\n",
    "        b -= alpha * dj_db\n",
    "    \n",
    "    return w, b"
   ]
  },
  {
   "cell_type": "code",
   "execution_count": 97,
   "id": "5980c4dc",
   "metadata": {},
   "outputs": [
    {
     "name": "stdout",
     "output_type": "stream",
     "text": [
      "cost: 7.177034325198229\n"
     ]
    },
    {
     "data": {
      "image/png": "[encoded data removed]",
      "text/plain": [
       "<Figure size 640x480 with 1 Axes>"
      ]
     },
     "metadata": {},
     "output_type": "display_data"
    }
   ],
   "source": [
    "x_train = np.array([1.0, 5.0, 8.0, 32.0])\n",
    "y_train = np.array([12.0, 35.0, 48.0, 132.0])\n",
    "\n",
    "alpha=1.0e-5\n",
    "iteration=1_000_000\n",
    "\n",
    "w, b = fit_regression(x_train, y_train, initial_w=3.0, initial_b=13.0, alpha=alpha, iteration=iteration)\n",
    "\n",
    "print(f\"cost: {compute_cost(x_train, y_train, w, b)}\")\n",
    "# Plot the points\n",
    "plt.scatter(x_train, y_train, label='Data Points')\n",
    "\n",
    "# Plot the linear regression line\n",
    "x_range = np.linspace(min(x_train), max(x_train), 100) # List of 100 points in our x range\n",
    "y_range = w * x_range + b\n",
    "plt.plot(x_range, y_range, color='red', label=f'Linear Regression: w={w:.2f}, b={b:.2f}')\n",
    "\n",
    "# Add labels\n",
    "plt.xlabel('X')\n",
    "plt.ylabel('Y')\n",
    "plt.legend()\n",
    "\n",
    "# Show the plot\n",
    "plt.show()"
   ]
  },
  {
   "cell_type": "code",
   "execution_count": null,
   "id": "45474a78",
   "metadata": {},
   "outputs": [],
   "source": []
  }
 ],
 "metadata": {
  "kernelspec": {
   "display_name": "Python 3 (ipykernel)",
   "language": "python",
   "name": "python3"
  },
  "language_info": {
   "codemirror_mode": {
    "name": "ipython",
    "version": 3
   },
   "file_extension": ".py",
   "mimetype": "text/x-python",
   "name": "python",
   "nbconvert_exporter": "python",
   "pygments_lexer": "ipython3",
   "version": "3.11.6"
  }
 },
 "nbformat": 4,
 "nbformat_minor": 5
}
