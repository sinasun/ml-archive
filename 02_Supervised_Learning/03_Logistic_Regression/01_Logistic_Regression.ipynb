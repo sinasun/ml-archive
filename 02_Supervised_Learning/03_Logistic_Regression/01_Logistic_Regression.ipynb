{
 "cells": [
  {
   "cell_type": "markdown",
   "id": "731b96ba",
   "metadata": {},
   "source": [
    "# Logistic Regression\n",
    "\n",
    "Now that we can calculate gradient descent for any function, lets apply the steps to a logistic function. Logistic regression is used in classification. Logistic function outputs a number between 0 and 1, which help us to understand for example if a picture cat or no.\n",
    "\n",
    "\n"
   ]
  },
  {
   "cell_type": "markdown",
   "id": "ed2e539f",
   "metadata": {},
   "source": [
    "## Sigmoid Function\n",
    "\n",
    "We define the sigmoid function as below:\n",
    "\n",
    "$$ g(z) = \\frac{1}{1 + e^{-z}} $$\n",
    "\n",
    "Lets plot the function to see what it outputs:\n"
   ]
  },
  {
   "cell_type": "code",
   "execution_count": 19,
   "id": "3e490f92",
   "metadata": {},
   "outputs": [],
   "source": [
    "import numpy as np\n",
    "import matplotlib.pyplot as plt\n",
    "def g(z):\n",
    "    return 1 / (1 + np.exp(-z))"
   ]
  },
  {
   "cell_type": "code",
   "execution_count": 24,
   "id": "3d3a2d06",
   "metadata": {},
   "outputs": [
    {
     "data": {
      "text/plain": [
       "Text(0, 0.5, 'g(z)')"
      ]
     },
     "execution_count": 24,
     "metadata": {},
     "output_type": "execute_result"
    },
    {
     "data": {
      "image/png": "[encoded data removed]",
      "text/plain": [
       "<Figure size 640x480 with 1 Axes>"
      ]
     },
     "metadata": {},
     "output_type": "display_data"
    }
   ],
   "source": [
    "x = np.arange(-10, 10, 0.1)\n",
    "y = g(x)\n",
    "\n",
    "plt.plot(x, y)\n",
    "plt.title(\"Sigmoid Function\")\n",
    "plt.xlabel(\"z\")\n",
    "plt.ylabel(\"g(z)\")"
   ]
  },
  {
   "cell_type": "markdown",
   "id": "cc80ce32",
   "metadata": {},
   "source": [
    "You can see that the output of the function is between 0 and 1. Also this is very good for classification due that the function slowly switch between 0 and 1."
   ]
  },
  {
   "cell_type": "markdown",
   "id": "3d0fe3ae",
   "metadata": {},
   "source": [
    "Now that we have seen our sigmoid function, we introduce **z** as follow:\n",
    "\n",
    "$$ z = \\mathbf{w} \\cdot \\mathbf{x}^{(i)} + b $$\n",
    "\n",
    "## Logistic Function\n",
    "\n",
    "Finally our logistic function becomes:\n",
    "\n",
    "$$ f_{\\mathbf{w},b}(\\mathbf{x}^{(i)}) = g(\\mathbf{w} \\cdot \\mathbf{x}^{(i)} + b ) $$ \n",
    "\n",
    "where\n",
    "\n",
    "$$g(z) = \\frac{1}{1+e^{-z}}$$\n"
   ]
  },
  {
   "cell_type": "markdown",
   "id": "cdf8538e",
   "metadata": {},
   "source": [
    "## Goal\n",
    "\n",
    "Given a dataset like this:\n",
    "\n",
    "|  x1 |  x2 | y |\n",
    "|-----|-----|---|\n",
    "| 0.5 | 1.5 | 0 |\n",
    "|  1  |  1  | 0 |\n",
    "| 1.5 | 0.5 | 0 |\n",
    "|  3  | 0.5 | 1 |\n",
    "|  2  |  2  | 1 |\n",
    "|  1  | 2.5 | 1 |\n",
    "\n",
    "Fit the best logistic function!"
   ]
  },
  {
   "cell_type": "markdown",
   "id": "e9ee984e",
   "metadata": {},
   "source": [
    "## Solution\n",
    "\n",
    "We know that cost function with regularization is defined as below:\n",
    "\n",
    "$$ J_{\\mathbf{w},b} = \\frac {1}{m} (\\sum_{i=0}^{m-1}L(f_{\\mathbf{w},b}(\\mathbf{x^{(i)}}),y^{(i)})) + \\frac {\\lambda}{2m}(\\sum_{j=1}^{n}w_j^2)$$\n",
    "\n",
    "### Loss Function\n",
    "\n",
    "Now we need to define the loss function. Our loss function should follow the rules:\n",
    "\n",
    "1. Should determine how far is the function output from the expected output\n",
    "2. Should be positive\n",
    "3. We should select the correct loss function that makes a convex (a function with only one global minimum and no local minimum) cost function ($J_{\\mathbf{w},b}$).\n",
    "\n",
    "In practice, when we apply linear regression loss function to logistic regression, we see that the function is not convex and has a multiple local minimum. \n",
    "\n",
    "#### Cross-Entropy Loss Function\n",
    "\n",
    "The best loss function that works for logistic regression, which is called cross-entropy, is defined as below:\n",
    "\n",
    "\\begin{equation}\n",
    "  L(f_{\\mathbf{w},b}(\\mathbf{x}^{(i)}), y^{(i)})) = \\begin{cases}\n",
    "    - \\log\\left(f_{\\mathbf{w},b}\\left( \\mathbf{x}^{(i)} \\right) \\right) & \\text{if $y^{(i)}=1$}\\\\\n",
    "    - \\log \\left( 1 - f_{\\mathbf{w},b}\\left( \\mathbf{x}^{(i)} \\right) \\right) & \\text{if $y^{(i)}=0$}\n",
    "  \\end{cases}\n",
    "\\end{equation}\n",
    "\n",
    "Which we can write as a mathematical function:\n",
    "\n",
    "$$ L(f_{\\mathbf{w},b}(\\mathbf{x}^{(i)})) = -y^{(i)} \\left(\\log(f_{\\mathbf{w},b}(\\mathbf{x}^{(i)})\\right) - (1 - y^{(i)}) \\left(\\log(1 - f_{\\mathbf{w},b}(\\mathbf{x}^{(i)})\\right) $$\n"
   ]
  },
  {
   "cell_type": "markdown",
   "id": "2bfc52a0",
   "metadata": {},
   "source": [
    "### Gradient Descent\n",
    "\n",
    "Now that we have our cost function, we can get derivative of it. We need to calculate each of $\\frac {\\partial J_{\\mathbf{w}, b}} {\\partial w_1}$ ,$\\frac {\\partial J_{\\mathbf{w}, b}} {\\partial w_2}$, ... ,$\\frac {\\partial J_{\\mathbf{w}, b}} {\\partial w_n}$, $\\frac {\\partial J_{\\mathbf{w}, b}} {\\partial b}$ (mathematical work!)\n",
    "\n",
    "So lets begin (it's going to be very long mathematical work, so enjoy!)\n",
    "\n",
    "Note: In logistic regression, the default base of log is e. So you can assume it's `ln`! I know it's confusing, but everyone accepted this."
   ]
  },
  {
   "cell_type": "markdown",
   "id": "49d3aac2",
   "metadata": {},
   "source": [
    "Lets first start by getting $\\frac {\\partial L(f_{\\mathbf{w},b}(\\mathbf{x}^{(i)}))} {\\partial w_j}$\n",
    "\n",
    "$$\\frac {\\partial L(f_{\\mathbf{w},b}(\\mathbf{x}^{(i)}))} {\\partial w_j} = -y^{(i)} \\frac {1} {f_{\\mathbf{w},b}(\\mathbf{x}^{(i)})} \\frac {\\partial f} {\\partial w_j} + \\frac {1 - y^{(i)}} {1 - f_{\\mathbf{w},b}(\\mathbf{x}^{(i)})} \\frac {\\partial f} {\\partial w_j}$$\n",
    "\n",
    "$$\\frac {\\partial L(f_{\\mathbf{w},b}(\\mathbf{x}^{(i)}))} {\\partial w_j} = \\frac {\\partial f} {\\partial w_j} \\left( \\frac {1 - y^{(i)}} {1 - f_{\\mathbf{w},b}(\\mathbf{x}^{(i)})} - \\frac {y^{(i)}} {f_{\\mathbf{w},b}(\\mathbf{x}^{(i)})} \\right)$$\n",
    "\n",
    "$$\\frac {\\partial L(f_{\\mathbf{w},b}(\\mathbf{x}^{(i)}))} {\\partial w_j} = \\frac {\\partial f} {\\partial w_j} \\left( \\frac { f_{\\mathbf{w},b}(\\mathbf{x}^{(i)}) - y^{(i)} f_{\\mathbf{w},b}(\\mathbf{x}^{(i)}) - y^{(i)} + y^{(i)} f_{\\mathbf{w},b}(\\mathbf{x}^{(i)})} { f_{\\mathbf{w},b}(\\mathbf{x}^{(i)}) ( 1 - f_{\\mathbf{w},b}(\\mathbf{x}^{(i)}))} \\right)$$\n",
    "\n",
    "$$\\frac {\\partial L(f_{\\mathbf{w},b}(\\mathbf{x}^{(i)}))} {\\partial w_j} = \\frac {\\partial f} {\\partial w_j} \\frac { f_{\\mathbf{w},b}(\\mathbf{x}^{(i)}) - y^{(i)}} { f_{\\mathbf{w},b}(\\mathbf{x}^{(i)}) ( 1 - f_{\\mathbf{w},b}(\\mathbf{x}^{(i)}))} \\tag{1}$$\n",
    "\n",
    "Now that we have the partial derivation for loss function we need to replace the f. We know that:\n",
    "\n",
    "$$ f_{\\mathbf{w},b}(\\mathbf{x}^{(i)}) = g(\\mathbf{w} \\cdot \\mathbf{x}^{(i)} + b ) $$ \n",
    "\n",
    "where\n",
    "\n",
    "$$g(z) = \\frac{1}{1+e^{-z}}$$\n",
    "\n",
    "so:\n",
    "\n",
    "$$ \\frac {\\partial f}{\\partial w_j} = \\frac {\\partial g} {\\partial w_j} $$\n",
    "\n",
    "\n",
    "Now for g, we get the chain derivative:\n",
    "\n",
    "$$ \\frac {\\partial g}{\\partial w_j} = \\frac {e^{-z}} {(1 + e^{-z}) ^ 2} \\frac {\\partial z} {\\partial w_j}$$\n",
    "\n",
    "And for z we have: \n",
    "\n",
    "$$ z = \\mathbf{w} \\cdot \\mathbf{x}^{(i)} + b $$\n",
    "\n",
    "Therefore the derivative for it is equal to:\n",
    "\n",
    "$$ \\frac {\\partial z}{\\partial w_j} = x_j^{(i)} $$\n",
    "\n",
    "So our derivative for g , becomes:\n",
    "\n",
    "$$ \\frac {\\partial g}{\\partial w_j} = \\frac {e^{-z}} {(1 + e^{-z}) ^ 2} x_j^{(i)} $$\n",
    "\n",
    "Now by replacing the g in the loss function (formula 1) (note that g = f):\n",
    "\n",
    "$$\\frac {\\partial L(f_{\\mathbf{w},b}(\\mathbf{x}^{(i)}))} {\\partial w_j} = \\frac {e^{-z}} {(1 + e^{-z}) ^2} \\frac { \\frac {1}{1 + e^{-z}} - y^{(i)}} { \\frac {1}{1 + e^{-z}} (1 - \\frac{1}{1 + e^{-z}})} x_j^{(i)} $$\n",
    "\n",
    "After simplifying the equation we get to:\n",
    "\n",
    "$$\\frac {\\partial L(f_{\\mathbf{w},b}(\\mathbf{x}^{(i)}))} {\\partial w_j} = \\left( \\frac {1}{1 + e^{-z}} - y^{(i)} \\right) x_j^{(i)} $$\n",
    "\n",
    "Which is equal to:\n",
    "\n",
    "$$\\frac {\\partial L(f_{\\mathbf{w},b}(\\mathbf{x}^{(i)}))} {\\partial w_j} = \\left( f_{\\mathbf{w},b}(\\mathbf{x}^{(i)}) - y^{(i)} \\right) x_j^{(i)} $$\n",
    "\n",
    "And by reaping the same steps for b, we get:\n",
    "\n",
    "$$\\frac {\\partial L(f_{\\mathbf{w},b}(\\mathbf{x}^{(i)}))} {\\partial b} = f_{\\mathbf{w},b}(\\mathbf{x}^{(i)}) - y^{(i)} $$"
   ]
  },
  {
   "cell_type": "markdown",
   "id": "ffd04cc2",
   "metadata": {},
   "source": [
    "Now that we have the equations for loss functions, we can easily replace them in the cost function.\n",
    "\n",
    "$$ J_{\\mathbf{w},b} = \\frac {1}{m} (\\sum_{i=0}^{m-1}L(f_{\\mathbf{w},b}(\\mathbf{x^{(i)}}),y^{(i)})) + \\frac {\\lambda}{2m}(\\sum_{j=1}^{n}w_j^2)$$\n",
    "\n",
    "$$ \\frac {\\partial J_{\\mathbf{w},b}} {\\partial w_j} = \\frac {1}{m} (\\sum_{i=0}^{m-1}\\frac{\\partial L}{\\partial w_j}) + \\frac {\\lambda}{m} w_j $$\n",
    "\n",
    "\n",
    "$$ \\frac {\\partial J_{\\mathbf{w},b}} {\\partial w_j} = \\frac {1}{m} (\\sum_{i=0}^{m-1}\\left( (f_{\\mathbf{w},b}(\\mathbf{x}^{(i)}) - y^{(i)}) x_j^{(i)}\\right) + \\frac {\\lambda}{m} w_j $$"
   ]
  },
  {
   "cell_type": "code",
   "execution_count": null,
   "id": "62c9d617",
   "metadata": {},
   "outputs": [],
   "source": []
  }
 ],
 "metadata": {
  "kernelspec": {
   "display_name": "Python 3 (ipykernel)",
   "language": "python",
   "name": "python3"
  },
  "language_info": {
   "codemirror_mode": {
    "name": "ipython",
    "version": 3
   },
   "file_extension": ".py",
   "mimetype": "text/x-python",
   "name": "python",
   "nbconvert_exporter": "python",
   "pygments_lexer": "ipython3",
   "version": "3.11.6"
  }
 },
 "nbformat": 4,
 "nbformat_minor": 5
}
