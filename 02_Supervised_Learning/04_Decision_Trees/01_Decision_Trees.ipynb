{
 "cells": [
  {
   "cell_type": "markdown",
   "id": "f3b3a3fb",
   "metadata": {},
   "source": [
    "# Decision Trees\n",
    "\n",
    "## Overview\n",
    "The best definition of decision trees, is that the algorithms find some nested **if** by itself that can be used to clasify our data. It does with dividing our objects, by the attributes, and checking which one more **purify** our dataset. \n",
    "\n",
    "And it keeps dividing the sets, until it reaches a **completly purified** set, which means it's completly the set is a group of only one classfied category, or hits the limit of our nested ifs, or the set has a few objects inside it.\n",
    "\n",
    "Our attributes are usually a binary number, 0 or 1. But it can be a number, which personally I think decision trees on numbers is not a very good practice, until it actually makes sense a particular problem.\n",
    "\n",
    "One of the advantages of the decision trees is that, it actually make sense to humans as well, specially simple trees.\n",
    "\n",
    "## Example\n",
    "\n",
    "Lets say we have 10 animals, that are either cat or dog. For our data, we have some attributes for each animal, such as the round face shape, round nose shape etc. Now we want by giving a new set of attributes, our algorithm detects if it's cat or dog.\n",
    "\n"
   ]
  },
  {
   "cell_type": "markdown",
   "id": "29442cd3",
   "metadata": {},
   "source": [
    "## Steps\n",
    "\n",
    "The way algorithm works is like this:\n",
    "\n",
    "1) For each attribute, divide the objects in two different groups, those with that attribute, and those without the attribute (lets say if pick round face attribute, now we get two groups, those who are round shape, those are not round shape).\n",
    "\n",
    "2) Calculate each **purifiction** based on the output groups. We go through the actual formula later, but for now, a purify group, is a group that majority of the group is from one category (like a group of only cat is a very purify group and a same as a group of only dogs. But a group of 5 cats and 5 dogs is not very purify).\n",
    "\n",
    "3) Choose the attribute by the one that gives the most **information gain**. Information gain is simply how much it reduces from our first set purifiction that we have, and when we make it to two groups. The more it reduces, it means has become more purified.\n",
    "\n",
    "4) Check if we have reached the maximum tree depth, or if the purifiction is enough, or if it has a very low number of objects inside the group. If yes, then stop diving the group, if not, start from **step 1** for the group."
   ]
  }
 ],
 "metadata": {
  "kernelspec": {
   "display_name": "Python 3 (ipykernel)",
   "language": "python",
   "name": "python3"
  },
  "language_info": {
   "codemirror_mode": {
    "name": "ipython",
    "version": 3
   },
   "file_extension": ".py",
   "mimetype": "text/x-python",
   "name": "python",
   "nbconvert_exporter": "python",
   "pygments_lexer": "ipython3",
   "version": "3.11.6"
  }
 },
 "nbformat": 4,
 "nbformat_minor": 5
}
