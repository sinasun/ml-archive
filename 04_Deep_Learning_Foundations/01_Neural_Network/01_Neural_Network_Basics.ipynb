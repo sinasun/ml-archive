{
 "cells": [
  {
   "cell_type": "code",
   "execution_count": 11,
   "id": "2e4c7f4e",
   "metadata": {},
   "outputs": [],
   "source": [
    "import numpy as np\n",
    "from math import exp"
   ]
  },
  {
   "cell_type": "code",
   "execution_count": 2,
   "id": "755f5587",
   "metadata": {},
   "outputs": [],
   "source": [
    "x = np.array([200, 17])\n",
    "\n",
    "W = np.array([[1, -3, 5],\n",
    "              [-2, 4, -6]])\n",
    "b = np.array([-1, 1, 2])"
   ]
  },
  {
   "cell_type": "code",
   "execution_count": 32,
   "id": "8cee54c6",
   "metadata": {},
   "outputs": [],
   "source": [
    "def g(z):\n",
    "    return 1 / (1 + np.exp(-z))"
   ]
  },
  {
   "cell_type": "code",
   "execution_count": 22,
   "id": "b05bc0d8",
   "metadata": {},
   "outputs": [
    {
     "name": "stdout",
     "output_type": "stream",
     "text": [
      "0\n",
      "166\n",
      "1\n",
      "-532\n",
      "2\n",
      "898\n",
      "[1.00000000e+000 2.45261912e-231 1.00000000e+000]\n"
     ]
    }
   ],
   "source": [
    "# Without vectorization:\n",
    "def dense(a_in, W, b):\n",
    "    unit = W.shape[1]\n",
    "    a_out = np.zeros(unit)\n",
    "    for j in range(unit):\n",
    "        print(j)\n",
    "        w = W[:,j]\n",
    "        print(np.dot(a_in, w))\n",
    "        z = np.dot(a_in, w) + b[j]\n",
    "        a_out[j] = g(z)\n",
    "    return a_out\n",
    "print(dense(x, W, b))"
   ]
  },
  {
   "cell_type": "code",
   "execution_count": 33,
   "id": "83f73c80",
   "metadata": {},
   "outputs": [
    {
     "name": "stdout",
     "output_type": "stream",
     "text": [
      "[[1.00000000e+000 2.45261912e-231 1.00000000e+000]]\n"
     ]
    }
   ],
   "source": [
    "# With vectorization:\n",
    "X = np.array([[200, 17]])\n",
    "\n",
    "W = np.array([[1, -3, 5],\n",
    "              [-2, 4, -6]])\n",
    "\n",
    "B = np.array([[-1, 1, 2]])\n",
    "def dense_vector(a_in, W, b):\n",
    "    a_out = g(np.dot(a_in, W) + b)\n",
    "    return a_out\n",
    "    \n",
    "print(dense_vector(X, W, B))"
   ]
  },
  {
   "cell_type": "code",
   "execution_count": null,
   "id": "d8d52e12",
   "metadata": {},
   "outputs": [],
   "source": []
  }
 ],
 "metadata": {
  "kernelspec": {
   "display_name": "Python 3 (ipykernel)",
   "language": "python",
   "name": "python3"
  },
  "language_info": {
   "codemirror_mode": {
    "name": "ipython",
    "version": 3
   },
   "file_extension": ".py",
   "mimetype": "text/x-python",
   "name": "python",
   "nbconvert_exporter": "python",
   "pygments_lexer": "ipython3",
   "version": "3.11.6"
  }
 },
 "nbformat": 4,
 "nbformat_minor": 5
}
